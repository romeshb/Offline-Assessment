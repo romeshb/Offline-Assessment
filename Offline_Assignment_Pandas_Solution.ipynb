{
  "nbformat": 4,
  "nbformat_minor": 0,
  "metadata": {
    "colab": {
      "name": "Offline_Assignment_Pandas_Solution.ipynb",
      "provenance": [],
      "collapsed_sections": [],
      "authorship_tag": "ABX9TyPkF3ozGt2Y3hRp6v3zKA5w",
      "include_colab_link": true
    },
    "kernelspec": {
      "name": "python3",
      "display_name": "Python 3"
    },
    "language_info": {
      "name": "python"
    }
  },
  "cells": [
    {
      "cell_type": "markdown",
      "metadata": {
        "id": "view-in-github",
        "colab_type": "text"
      },
      "source": [
        "<a href=\"https://colab.research.google.com/github/romeshb/Offline-Assessment/blob/master/Offline_Assignment_Pandas_Solution.ipynb\" target=\"_parent\"><img src=\"https://colab.research.google.com/assets/colab-badge.svg\" alt=\"Open In Colab\"/></a>"
      ]
    },
    {
      "cell_type": "markdown",
      "source": [
        "####**Submission by: Romesh Borawake (borawakeromesh@gmail.com)**\n",
        "\n",
        "\n",
        "---\n",
        "\n",
        "\n",
        "Table under consideration is Sales with the sample format given below:\n",
        "\n",
        "\n",
        "Sale_date, Country, Category, product, sales\n",
        "Jan-2021, USA , Retail, UUID1, 10000\n",
        "Jan-2021, USA, Healthcare, UUID2, 2000\n",
        "Jan-2021, Canada, Retail, UUID3, 30000\n",
        "Jan-2021, Canada, Hospitality, UUID4, 5000\n",
        "Feb-2021, USA , Retail, UUID5, 10000\n",
        "Feb-2021, USA, Healthcare, UUID6, 2000\n",
        "Feb-2021, Canada, Retail, UUID7, 30000\n",
        "Feb-2021, Canada, Hospitality, UUID8, 5000\n",
        "```\n",
        "Sale_date, Country, Category, product, sales\n",
        "Jan-2021, USA , Retail, UUID1, 10000\n",
        "Jan-2021, USA, Healthcare, UUID2, 2000\n",
        "Jan-2021, Canada, Retail, UUID3, 30000\n",
        "Jan-2021, Canada, Hospitality, UUID4, 5000\n",
        "Feb-2021, USA , Retail, UUID5, 10000\n",
        "Feb-2021, USA, Healthcare, UUID6, 2000\n",
        "Feb-2021, Canada, Retail, UUID7, 30000\n",
        "Feb-2021, Canada, Hospitality, UUID8, 5000\n",
        "```\n",
        "\n",
        "Questions:\n",
        "\n",
        "1.Top 3 categories within every country based on total sales in the current year.\n",
        "- Output should be in this format (Country, Category, Total sales)\n",
        "2. Total sales of products sold in both Feb & Jan , Total sales of products sold ONLY in Jan, Total sales of products sold ONLY in Feb.\n",
        "- Output should be in this format (jan_feb_sales, jan_sales, feb_sales)\n",
        "3. In the query written in question #1 what are the partitions and indexes you would create for best performance?"
      ],
      "metadata": {
        "id": "LcchcnZiox6e"
      }
    },
    {
      "cell_type": "code",
      "execution_count": 1,
      "metadata": {
        "id": "X4DVZiwQn6mE"
      },
      "outputs": [],
      "source": [
        "# importing required library\n",
        "import pandas as pd"
      ]
    },
    {
      "cell_type": "code",
      "source": [
        "# We create a DataFrame of the table given in the question.\n",
        "df = pd.DataFrame([['Jan-2021','USA', 'Retail', 'UUID1', 10000],\n",
        "                   ['Jan-2021','USA', 'Healthcare', 'UUID2', 2000],\n",
        "                   ['Jan-2021', 'Canada', 'Retail', 'UUID3', 30000],\n",
        "                   ['Jan-2021', 'Canada', 'Hospitality', 'UUID4', 5000],\n",
        "                   ['Feb-2021', 'USA' , 'Retail', 'UUID5', 10000],\n",
        "                   ['Feb-2021', 'USA', 'Healthcare', 'UUID6', 2000],\n",
        "                   ['Feb-2021', 'Canada', 'Retail', 'UUID7', 30000],\n",
        "                   ['Feb-2021', 'Canada', 'Hospitality', 'UUID8', 5000]], \n",
        "                  columns = ['Sale_date','Country','Category','product','sales']\n",
        "                  )\n"
      ],
      "metadata": {
        "id": "A0iKf3ngo3wc"
      },
      "execution_count": 2,
      "outputs": []
    },
    {
      "cell_type": "code",
      "source": [
        "# We Create two columns named Sale_month and Sale_year from Sale_date\n",
        "df[['Sale_month','Sale_year']] = df['Sale_date'].str.split('-', expand = True)\n",
        "df"
      ],
      "metadata": {
        "colab": {
          "base_uri": "https://localhost:8080/",
          "height": 300
        },
        "id": "KikqidZ8o5Tj",
        "outputId": "fd6b31bd-f818-44c7-a77e-421715f30d8c"
      },
      "execution_count": 3,
      "outputs": [
        {
          "output_type": "execute_result",
          "data": {
            "text/plain": [
              "  Sale_date Country     Category product  sales Sale_month Sale_year\n",
              "0  Jan-2021     USA       Retail   UUID1  10000        Jan      2021\n",
              "1  Jan-2021     USA   Healthcare   UUID2   2000        Jan      2021\n",
              "2  Jan-2021  Canada       Retail   UUID3  30000        Jan      2021\n",
              "3  Jan-2021  Canada  Hospitality   UUID4   5000        Jan      2021\n",
              "4  Feb-2021     USA       Retail   UUID5  10000        Feb      2021\n",
              "5  Feb-2021     USA   Healthcare   UUID6   2000        Feb      2021\n",
              "6  Feb-2021  Canada       Retail   UUID7  30000        Feb      2021\n",
              "7  Feb-2021  Canada  Hospitality   UUID8   5000        Feb      2021"
            ],
            "text/html": [
              "\n",
              "  <div id=\"df-d5c4a287-9cdb-4efe-87a5-348229ddf309\">\n",
              "    <div class=\"colab-df-container\">\n",
              "      <div>\n",
              "<style scoped>\n",
              "    .dataframe tbody tr th:only-of-type {\n",
              "        vertical-align: middle;\n",
              "    }\n",
              "\n",
              "    .dataframe tbody tr th {\n",
              "        vertical-align: top;\n",
              "    }\n",
              "\n",
              "    .dataframe thead th {\n",
              "        text-align: right;\n",
              "    }\n",
              "</style>\n",
              "<table border=\"1\" class=\"dataframe\">\n",
              "  <thead>\n",
              "    <tr style=\"text-align: right;\">\n",
              "      <th></th>\n",
              "      <th>Sale_date</th>\n",
              "      <th>Country</th>\n",
              "      <th>Category</th>\n",
              "      <th>product</th>\n",
              "      <th>sales</th>\n",
              "      <th>Sale_month</th>\n",
              "      <th>Sale_year</th>\n",
              "    </tr>\n",
              "  </thead>\n",
              "  <tbody>\n",
              "    <tr>\n",
              "      <th>0</th>\n",
              "      <td>Jan-2021</td>\n",
              "      <td>USA</td>\n",
              "      <td>Retail</td>\n",
              "      <td>UUID1</td>\n",
              "      <td>10000</td>\n",
              "      <td>Jan</td>\n",
              "      <td>2021</td>\n",
              "    </tr>\n",
              "    <tr>\n",
              "      <th>1</th>\n",
              "      <td>Jan-2021</td>\n",
              "      <td>USA</td>\n",
              "      <td>Healthcare</td>\n",
              "      <td>UUID2</td>\n",
              "      <td>2000</td>\n",
              "      <td>Jan</td>\n",
              "      <td>2021</td>\n",
              "    </tr>\n",
              "    <tr>\n",
              "      <th>2</th>\n",
              "      <td>Jan-2021</td>\n",
              "      <td>Canada</td>\n",
              "      <td>Retail</td>\n",
              "      <td>UUID3</td>\n",
              "      <td>30000</td>\n",
              "      <td>Jan</td>\n",
              "      <td>2021</td>\n",
              "    </tr>\n",
              "    <tr>\n",
              "      <th>3</th>\n",
              "      <td>Jan-2021</td>\n",
              "      <td>Canada</td>\n",
              "      <td>Hospitality</td>\n",
              "      <td>UUID4</td>\n",
              "      <td>5000</td>\n",
              "      <td>Jan</td>\n",
              "      <td>2021</td>\n",
              "    </tr>\n",
              "    <tr>\n",
              "      <th>4</th>\n",
              "      <td>Feb-2021</td>\n",
              "      <td>USA</td>\n",
              "      <td>Retail</td>\n",
              "      <td>UUID5</td>\n",
              "      <td>10000</td>\n",
              "      <td>Feb</td>\n",
              "      <td>2021</td>\n",
              "    </tr>\n",
              "    <tr>\n",
              "      <th>5</th>\n",
              "      <td>Feb-2021</td>\n",
              "      <td>USA</td>\n",
              "      <td>Healthcare</td>\n",
              "      <td>UUID6</td>\n",
              "      <td>2000</td>\n",
              "      <td>Feb</td>\n",
              "      <td>2021</td>\n",
              "    </tr>\n",
              "    <tr>\n",
              "      <th>6</th>\n",
              "      <td>Feb-2021</td>\n",
              "      <td>Canada</td>\n",
              "      <td>Retail</td>\n",
              "      <td>UUID7</td>\n",
              "      <td>30000</td>\n",
              "      <td>Feb</td>\n",
              "      <td>2021</td>\n",
              "    </tr>\n",
              "    <tr>\n",
              "      <th>7</th>\n",
              "      <td>Feb-2021</td>\n",
              "      <td>Canada</td>\n",
              "      <td>Hospitality</td>\n",
              "      <td>UUID8</td>\n",
              "      <td>5000</td>\n",
              "      <td>Feb</td>\n",
              "      <td>2021</td>\n",
              "    </tr>\n",
              "  </tbody>\n",
              "</table>\n",
              "</div>\n",
              "      <button class=\"colab-df-convert\" onclick=\"convertToInteractive('df-d5c4a287-9cdb-4efe-87a5-348229ddf309')\"\n",
              "              title=\"Convert this dataframe to an interactive table.\"\n",
              "              style=\"display:none;\">\n",
              "        \n",
              "  <svg xmlns=\"http://www.w3.org/2000/svg\" height=\"24px\"viewBox=\"0 0 24 24\"\n",
              "       width=\"24px\">\n",
              "    <path d=\"M0 0h24v24H0V0z\" fill=\"none\"/>\n",
              "    <path d=\"M18.56 5.44l.94 2.06.94-2.06 2.06-.94-2.06-.94-.94-2.06-.94 2.06-2.06.94zm-11 1L8.5 8.5l.94-2.06 2.06-.94-2.06-.94L8.5 2.5l-.94 2.06-2.06.94zm10 10l.94 2.06.94-2.06 2.06-.94-2.06-.94-.94-2.06-.94 2.06-2.06.94z\"/><path d=\"M17.41 7.96l-1.37-1.37c-.4-.4-.92-.59-1.43-.59-.52 0-1.04.2-1.43.59L10.3 9.45l-7.72 7.72c-.78.78-.78 2.05 0 2.83L4 21.41c.39.39.9.59 1.41.59.51 0 1.02-.2 1.41-.59l7.78-7.78 2.81-2.81c.8-.78.8-2.07 0-2.86zM5.41 20L4 18.59l7.72-7.72 1.47 1.35L5.41 20z\"/>\n",
              "  </svg>\n",
              "      </button>\n",
              "      \n",
              "  <style>\n",
              "    .colab-df-container {\n",
              "      display:flex;\n",
              "      flex-wrap:wrap;\n",
              "      gap: 12px;\n",
              "    }\n",
              "\n",
              "    .colab-df-convert {\n",
              "      background-color: #E8F0FE;\n",
              "      border: none;\n",
              "      border-radius: 50%;\n",
              "      cursor: pointer;\n",
              "      display: none;\n",
              "      fill: #1967D2;\n",
              "      height: 32px;\n",
              "      padding: 0 0 0 0;\n",
              "      width: 32px;\n",
              "    }\n",
              "\n",
              "    .colab-df-convert:hover {\n",
              "      background-color: #E2EBFA;\n",
              "      box-shadow: 0px 1px 2px rgba(60, 64, 67, 0.3), 0px 1px 3px 1px rgba(60, 64, 67, 0.15);\n",
              "      fill: #174EA6;\n",
              "    }\n",
              "\n",
              "    [theme=dark] .colab-df-convert {\n",
              "      background-color: #3B4455;\n",
              "      fill: #D2E3FC;\n",
              "    }\n",
              "\n",
              "    [theme=dark] .colab-df-convert:hover {\n",
              "      background-color: #434B5C;\n",
              "      box-shadow: 0px 1px 3px 1px rgba(0, 0, 0, 0.15);\n",
              "      filter: drop-shadow(0px 1px 2px rgba(0, 0, 0, 0.3));\n",
              "      fill: #FFFFFF;\n",
              "    }\n",
              "  </style>\n",
              "\n",
              "      <script>\n",
              "        const buttonEl =\n",
              "          document.querySelector('#df-d5c4a287-9cdb-4efe-87a5-348229ddf309 button.colab-df-convert');\n",
              "        buttonEl.style.display =\n",
              "          google.colab.kernel.accessAllowed ? 'block' : 'none';\n",
              "\n",
              "        async function convertToInteractive(key) {\n",
              "          const element = document.querySelector('#df-d5c4a287-9cdb-4efe-87a5-348229ddf309');\n",
              "          const dataTable =\n",
              "            await google.colab.kernel.invokeFunction('convertToInteractive',\n",
              "                                                     [key], {});\n",
              "          if (!dataTable) return;\n",
              "\n",
              "          const docLinkHtml = 'Like what you see? Visit the ' +\n",
              "            '<a target=\"_blank\" href=https://colab.research.google.com/notebooks/data_table.ipynb>data table notebook</a>'\n",
              "            + ' to learn more about interactive tables.';\n",
              "          element.innerHTML = '';\n",
              "          dataTable['output_type'] = 'display_data';\n",
              "          await google.colab.output.renderOutput(dataTable, element);\n",
              "          const docLink = document.createElement('div');\n",
              "          docLink.innerHTML = docLinkHtml;\n",
              "          element.appendChild(docLink);\n",
              "        }\n",
              "      </script>\n",
              "    </div>\n",
              "  </div>\n",
              "  "
            ]
          },
          "metadata": {},
          "execution_count": 3
        }
      ]
    },
    {
      "cell_type": "markdown",
      "metadata": {
        "id": "UvwdiDJUW7Le"
      },
      "source": [
        "## 1.Top 3 categories within every country based on total sales in the current year.\n",
        "\n",
        "    Output should be in this format (Country, Category, Total sales)"
      ]
    },
    {
      "cell_type": "code",
      "source": [
        "output1 = df.groupby(['Sale_year','Country']).apply(lambda x: (x.groupby(['Category'])\n",
        "                                            .sum() # sum(of sales for each group)\n",
        "                                            .sort_values('sales', ascending=False)) # sort Sum of sales, in descending order within each group \n",
        "                                            .head(3)) # grouby.head() will give top n records for each group"
      ],
      "metadata": {
        "id": "RzVwEgQPhbz5"
      },
      "execution_count": 4,
      "outputs": []
    },
    {
      "cell_type": "code",
      "source": [
        "output1.columns = ['Total sales'] # Changing Column name to Total sales\n",
        "output1.reset_index(inplace = True) \n",
        "output1.drop(['Sale_year'], axis =1, inplace = True) # removing unwanted column"
      ],
      "metadata": {
        "id": "RQ7-PEzirwIW"
      },
      "execution_count": 5,
      "outputs": []
    },
    {
      "cell_type": "code",
      "source": [
        "# Output for Question 1\n",
        "output1"
      ],
      "metadata": {
        "colab": {
          "base_uri": "https://localhost:8080/",
          "height": 175
        },
        "id": "8LToCE9jsH0F",
        "outputId": "8a493bed-9915-4e14-ee1d-866e886b59a7"
      },
      "execution_count": 6,
      "outputs": [
        {
          "output_type": "execute_result",
          "data": {
            "text/plain": [
              "  Country     Category  Total sales\n",
              "0  Canada       Retail        60000\n",
              "1  Canada  Hospitality        10000\n",
              "2     USA       Retail        20000\n",
              "3     USA   Healthcare         4000"
            ],
            "text/html": [
              "\n",
              "  <div id=\"df-b429bca9-22b3-4e8a-8d6c-2d58cb4b3cc0\">\n",
              "    <div class=\"colab-df-container\">\n",
              "      <div>\n",
              "<style scoped>\n",
              "    .dataframe tbody tr th:only-of-type {\n",
              "        vertical-align: middle;\n",
              "    }\n",
              "\n",
              "    .dataframe tbody tr th {\n",
              "        vertical-align: top;\n",
              "    }\n",
              "\n",
              "    .dataframe thead th {\n",
              "        text-align: right;\n",
              "    }\n",
              "</style>\n",
              "<table border=\"1\" class=\"dataframe\">\n",
              "  <thead>\n",
              "    <tr style=\"text-align: right;\">\n",
              "      <th></th>\n",
              "      <th>Country</th>\n",
              "      <th>Category</th>\n",
              "      <th>Total sales</th>\n",
              "    </tr>\n",
              "  </thead>\n",
              "  <tbody>\n",
              "    <tr>\n",
              "      <th>0</th>\n",
              "      <td>Canada</td>\n",
              "      <td>Retail</td>\n",
              "      <td>60000</td>\n",
              "    </tr>\n",
              "    <tr>\n",
              "      <th>1</th>\n",
              "      <td>Canada</td>\n",
              "      <td>Hospitality</td>\n",
              "      <td>10000</td>\n",
              "    </tr>\n",
              "    <tr>\n",
              "      <th>2</th>\n",
              "      <td>USA</td>\n",
              "      <td>Retail</td>\n",
              "      <td>20000</td>\n",
              "    </tr>\n",
              "    <tr>\n",
              "      <th>3</th>\n",
              "      <td>USA</td>\n",
              "      <td>Healthcare</td>\n",
              "      <td>4000</td>\n",
              "    </tr>\n",
              "  </tbody>\n",
              "</table>\n",
              "</div>\n",
              "      <button class=\"colab-df-convert\" onclick=\"convertToInteractive('df-b429bca9-22b3-4e8a-8d6c-2d58cb4b3cc0')\"\n",
              "              title=\"Convert this dataframe to an interactive table.\"\n",
              "              style=\"display:none;\">\n",
              "        \n",
              "  <svg xmlns=\"http://www.w3.org/2000/svg\" height=\"24px\"viewBox=\"0 0 24 24\"\n",
              "       width=\"24px\">\n",
              "    <path d=\"M0 0h24v24H0V0z\" fill=\"none\"/>\n",
              "    <path d=\"M18.56 5.44l.94 2.06.94-2.06 2.06-.94-2.06-.94-.94-2.06-.94 2.06-2.06.94zm-11 1L8.5 8.5l.94-2.06 2.06-.94-2.06-.94L8.5 2.5l-.94 2.06-2.06.94zm10 10l.94 2.06.94-2.06 2.06-.94-2.06-.94-.94-2.06-.94 2.06-2.06.94z\"/><path d=\"M17.41 7.96l-1.37-1.37c-.4-.4-.92-.59-1.43-.59-.52 0-1.04.2-1.43.59L10.3 9.45l-7.72 7.72c-.78.78-.78 2.05 0 2.83L4 21.41c.39.39.9.59 1.41.59.51 0 1.02-.2 1.41-.59l7.78-7.78 2.81-2.81c.8-.78.8-2.07 0-2.86zM5.41 20L4 18.59l7.72-7.72 1.47 1.35L5.41 20z\"/>\n",
              "  </svg>\n",
              "      </button>\n",
              "      \n",
              "  <style>\n",
              "    .colab-df-container {\n",
              "      display:flex;\n",
              "      flex-wrap:wrap;\n",
              "      gap: 12px;\n",
              "    }\n",
              "\n",
              "    .colab-df-convert {\n",
              "      background-color: #E8F0FE;\n",
              "      border: none;\n",
              "      border-radius: 50%;\n",
              "      cursor: pointer;\n",
              "      display: none;\n",
              "      fill: #1967D2;\n",
              "      height: 32px;\n",
              "      padding: 0 0 0 0;\n",
              "      width: 32px;\n",
              "    }\n",
              "\n",
              "    .colab-df-convert:hover {\n",
              "      background-color: #E2EBFA;\n",
              "      box-shadow: 0px 1px 2px rgba(60, 64, 67, 0.3), 0px 1px 3px 1px rgba(60, 64, 67, 0.15);\n",
              "      fill: #174EA6;\n",
              "    }\n",
              "\n",
              "    [theme=dark] .colab-df-convert {\n",
              "      background-color: #3B4455;\n",
              "      fill: #D2E3FC;\n",
              "    }\n",
              "\n",
              "    [theme=dark] .colab-df-convert:hover {\n",
              "      background-color: #434B5C;\n",
              "      box-shadow: 0px 1px 3px 1px rgba(0, 0, 0, 0.15);\n",
              "      filter: drop-shadow(0px 1px 2px rgba(0, 0, 0, 0.3));\n",
              "      fill: #FFFFFF;\n",
              "    }\n",
              "  </style>\n",
              "\n",
              "      <script>\n",
              "        const buttonEl =\n",
              "          document.querySelector('#df-b429bca9-22b3-4e8a-8d6c-2d58cb4b3cc0 button.colab-df-convert');\n",
              "        buttonEl.style.display =\n",
              "          google.colab.kernel.accessAllowed ? 'block' : 'none';\n",
              "\n",
              "        async function convertToInteractive(key) {\n",
              "          const element = document.querySelector('#df-b429bca9-22b3-4e8a-8d6c-2d58cb4b3cc0');\n",
              "          const dataTable =\n",
              "            await google.colab.kernel.invokeFunction('convertToInteractive',\n",
              "                                                     [key], {});\n",
              "          if (!dataTable) return;\n",
              "\n",
              "          const docLinkHtml = 'Like what you see? Visit the ' +\n",
              "            '<a target=\"_blank\" href=https://colab.research.google.com/notebooks/data_table.ipynb>data table notebook</a>'\n",
              "            + ' to learn more about interactive tables.';\n",
              "          element.innerHTML = '';\n",
              "          dataTable['output_type'] = 'display_data';\n",
              "          await google.colab.output.renderOutput(dataTable, element);\n",
              "          const docLink = document.createElement('div');\n",
              "          docLink.innerHTML = docLinkHtml;\n",
              "          element.appendChild(docLink);\n",
              "        }\n",
              "      </script>\n",
              "    </div>\n",
              "  </div>\n",
              "  "
            ]
          },
          "metadata": {},
          "execution_count": 6
        }
      ]
    },
    {
      "cell_type": "markdown",
      "metadata": {
        "id": "XM9god00TEg6"
      },
      "source": [
        "## 2. Total sales of products sold in both Feb & Jan , Total sales of products sold ONLY in Jan, Total sales of products sold ONLY in Feb.\n",
        "\n",
        "    Output should be in this format (jan_feb_sales, jan_sales, feb_sales)"
      ]
    },
    {
      "cell_type": "code",
      "execution_count": 7,
      "metadata": {
        "colab": {
          "base_uri": "https://localhost:8080/"
        },
        "id": "fBZbH8F8UFck",
        "outputId": "5f3d02da-794d-4b30-ae83-c5d851075b73"
      },
      "outputs": [
        {
          "output_type": "execute_result",
          "data": {
            "text/plain": [
              "94000"
            ]
          },
          "metadata": {},
          "execution_count": 7
        }
      ],
      "source": [
        "# Getting Jan and Feb total sales\n",
        "jan_feb_sales = df[(df['Sale_month'] == 'Jan') | (df['Sale_month'] == 'Feb')]['sales'].sum()\n",
        "jan_feb_sales"
      ]
    },
    {
      "cell_type": "code",
      "execution_count": 8,
      "metadata": {
        "colab": {
          "base_uri": "https://localhost:8080/"
        },
        "id": "gy0vn33mTOVt",
        "outputId": "00e7b0f3-042c-43d6-bedc-db5239499aaf"
      },
      "outputs": [
        {
          "output_type": "execute_result",
          "data": {
            "text/plain": [
              "47000"
            ]
          },
          "metadata": {},
          "execution_count": 8
        }
      ],
      "source": [
        "# Getting Jan total sales\n",
        "jan_sales = df[df['Sale_month'] == 'Jan']['sales'].sum()\n",
        "jan_sales"
      ]
    },
    {
      "cell_type": "code",
      "execution_count": 9,
      "metadata": {
        "colab": {
          "base_uri": "https://localhost:8080/"
        },
        "id": "kqpNLc6XTEDc",
        "outputId": "e0487d6c-fc50-4b70-a883-bf14a1b0de94"
      },
      "outputs": [
        {
          "output_type": "execute_result",
          "data": {
            "text/plain": [
              "47000"
            ]
          },
          "metadata": {},
          "execution_count": 9
        }
      ],
      "source": [
        "# Getting Feb total sales\n",
        "feb_sales = df[df['Sale_month'] =='Feb']['sales'].sum()\n",
        "feb_sales"
      ]
    },
    {
      "cell_type": "code",
      "execution_count": 10,
      "metadata": {
        "colab": {
          "base_uri": "https://localhost:8080/",
          "height": 81
        },
        "id": "RwCDQiT2VIDf",
        "outputId": "223880ff-dac2-4f79-f273-165ce66e1a2f"
      },
      "outputs": [
        {
          "output_type": "execute_result",
          "data": {
            "text/plain": [
              "   jan_feb_sales  jan_sales  feb_sales\n",
              "0          94000      47000      47000"
            ],
            "text/html": [
              "\n",
              "  <div id=\"df-dda74405-0c6f-477a-98a8-39b6636255bd\">\n",
              "    <div class=\"colab-df-container\">\n",
              "      <div>\n",
              "<style scoped>\n",
              "    .dataframe tbody tr th:only-of-type {\n",
              "        vertical-align: middle;\n",
              "    }\n",
              "\n",
              "    .dataframe tbody tr th {\n",
              "        vertical-align: top;\n",
              "    }\n",
              "\n",
              "    .dataframe thead th {\n",
              "        text-align: right;\n",
              "    }\n",
              "</style>\n",
              "<table border=\"1\" class=\"dataframe\">\n",
              "  <thead>\n",
              "    <tr style=\"text-align: right;\">\n",
              "      <th></th>\n",
              "      <th>jan_feb_sales</th>\n",
              "      <th>jan_sales</th>\n",
              "      <th>feb_sales</th>\n",
              "    </tr>\n",
              "  </thead>\n",
              "  <tbody>\n",
              "    <tr>\n",
              "      <th>0</th>\n",
              "      <td>94000</td>\n",
              "      <td>47000</td>\n",
              "      <td>47000</td>\n",
              "    </tr>\n",
              "  </tbody>\n",
              "</table>\n",
              "</div>\n",
              "      <button class=\"colab-df-convert\" onclick=\"convertToInteractive('df-dda74405-0c6f-477a-98a8-39b6636255bd')\"\n",
              "              title=\"Convert this dataframe to an interactive table.\"\n",
              "              style=\"display:none;\">\n",
              "        \n",
              "  <svg xmlns=\"http://www.w3.org/2000/svg\" height=\"24px\"viewBox=\"0 0 24 24\"\n",
              "       width=\"24px\">\n",
              "    <path d=\"M0 0h24v24H0V0z\" fill=\"none\"/>\n",
              "    <path d=\"M18.56 5.44l.94 2.06.94-2.06 2.06-.94-2.06-.94-.94-2.06-.94 2.06-2.06.94zm-11 1L8.5 8.5l.94-2.06 2.06-.94-2.06-.94L8.5 2.5l-.94 2.06-2.06.94zm10 10l.94 2.06.94-2.06 2.06-.94-2.06-.94-.94-2.06-.94 2.06-2.06.94z\"/><path d=\"M17.41 7.96l-1.37-1.37c-.4-.4-.92-.59-1.43-.59-.52 0-1.04.2-1.43.59L10.3 9.45l-7.72 7.72c-.78.78-.78 2.05 0 2.83L4 21.41c.39.39.9.59 1.41.59.51 0 1.02-.2 1.41-.59l7.78-7.78 2.81-2.81c.8-.78.8-2.07 0-2.86zM5.41 20L4 18.59l7.72-7.72 1.47 1.35L5.41 20z\"/>\n",
              "  </svg>\n",
              "      </button>\n",
              "      \n",
              "  <style>\n",
              "    .colab-df-container {\n",
              "      display:flex;\n",
              "      flex-wrap:wrap;\n",
              "      gap: 12px;\n",
              "    }\n",
              "\n",
              "    .colab-df-convert {\n",
              "      background-color: #E8F0FE;\n",
              "      border: none;\n",
              "      border-radius: 50%;\n",
              "      cursor: pointer;\n",
              "      display: none;\n",
              "      fill: #1967D2;\n",
              "      height: 32px;\n",
              "      padding: 0 0 0 0;\n",
              "      width: 32px;\n",
              "    }\n",
              "\n",
              "    .colab-df-convert:hover {\n",
              "      background-color: #E2EBFA;\n",
              "      box-shadow: 0px 1px 2px rgba(60, 64, 67, 0.3), 0px 1px 3px 1px rgba(60, 64, 67, 0.15);\n",
              "      fill: #174EA6;\n",
              "    }\n",
              "\n",
              "    [theme=dark] .colab-df-convert {\n",
              "      background-color: #3B4455;\n",
              "      fill: #D2E3FC;\n",
              "    }\n",
              "\n",
              "    [theme=dark] .colab-df-convert:hover {\n",
              "      background-color: #434B5C;\n",
              "      box-shadow: 0px 1px 3px 1px rgba(0, 0, 0, 0.15);\n",
              "      filter: drop-shadow(0px 1px 2px rgba(0, 0, 0, 0.3));\n",
              "      fill: #FFFFFF;\n",
              "    }\n",
              "  </style>\n",
              "\n",
              "      <script>\n",
              "        const buttonEl =\n",
              "          document.querySelector('#df-dda74405-0c6f-477a-98a8-39b6636255bd button.colab-df-convert');\n",
              "        buttonEl.style.display =\n",
              "          google.colab.kernel.accessAllowed ? 'block' : 'none';\n",
              "\n",
              "        async function convertToInteractive(key) {\n",
              "          const element = document.querySelector('#df-dda74405-0c6f-477a-98a8-39b6636255bd');\n",
              "          const dataTable =\n",
              "            await google.colab.kernel.invokeFunction('convertToInteractive',\n",
              "                                                     [key], {});\n",
              "          if (!dataTable) return;\n",
              "\n",
              "          const docLinkHtml = 'Like what you see? Visit the ' +\n",
              "            '<a target=\"_blank\" href=https://colab.research.google.com/notebooks/data_table.ipynb>data table notebook</a>'\n",
              "            + ' to learn more about interactive tables.';\n",
              "          element.innerHTML = '';\n",
              "          dataTable['output_type'] = 'display_data';\n",
              "          await google.colab.output.renderOutput(dataTable, element);\n",
              "          const docLink = document.createElement('div');\n",
              "          docLink.innerHTML = docLinkHtml;\n",
              "          element.appendChild(docLink);\n",
              "        }\n",
              "      </script>\n",
              "    </div>\n",
              "  </div>\n",
              "  "
            ]
          },
          "metadata": {},
          "execution_count": 10
        }
      ],
      "source": [
        "# Output for question 2\n",
        "output2 = pd.DataFrame({'jan_feb_sales':[jan_feb_sales],'jan_sales':[jan_sales],'feb_sales':[feb_sales]})\n",
        "output2"
      ]
    },
    {
      "cell_type": "markdown",
      "source": [
        "## 3. In the query written in question #1 what are the partitions and indexes you would create for best performance?"
      ],
      "metadata": {
        "id": "nQBW0L4gi3c9"
      }
    },
    {
      "cell_type": "markdown",
      "source": [
        "- The Partitions I created were Sale_year, Country and Category for best perfomance,\n",
        "- because, We can say that Sale year is least Heterogeneous in the current table, followed by Country and then by Category."
      ],
      "metadata": {
        "id": "QXAhRlQGjAq3"
      }
    },
    {
      "cell_type": "markdown",
      "source": [
        "----END OF NOTEBOOK----"
      ],
      "metadata": {
        "id": "sZI1yltd9vBq"
      }
    }
  ]
}